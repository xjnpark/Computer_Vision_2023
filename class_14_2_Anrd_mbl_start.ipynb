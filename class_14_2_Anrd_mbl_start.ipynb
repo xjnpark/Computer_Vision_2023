{
 "cells": [
  {
   "cell_type": "markdown",
   "metadata": {},
   "source": [
    "# <center> 👉 class_14_2 » _Android Mobile App Develop using Kotlin_ </center>   \n"
   ]
  },
  {
   "cell_type": "markdown",
   "metadata": {},
   "source": [
    "# ▣ Android Mobile Start\n",
    "\n",
    "https://developer.android.com/studio?hl=en  \n",
    "\n",
    "<img src='./and_studio1.png'  width=800 height=400>\n",
    "\n",
    "## Get started with Android Studio\n",
    "\n",
    "<img src='./and_studio2.png'  width=800 height=400>\n"
   ]
  },
  {
   "cell_type": "markdown",
   "metadata": {},
   "source": [
    "### Getting Started > Install Android Studio     \n",
    "\n",
    "### ▶ Android Studio downloads \n",
    "\n",
    "<img src='./and_studio3.png'  width=800 height=400>\n",
    "\n",
    "If you have issues on SDK installing, click Show Detail and copy the issue url, try to download mannually\n",
    "https://stackoverflow.com/questions/57122856/error-while-downloading-google-apis-intel-x86-atom-system-image"
   ]
  },
  {
   "cell_type": "markdown",
   "metadata": {},
   "source": [
    "### Getting Started > Build your first app  \n",
    "\n",
    "Create your first Android app  \n",
    "\n",
    "https://developer.android.com/codelabs/basic-android-kotlin-compose-first-app?hl=en#1  \n",
    "    \n",
    "Let's create our first Android app with a project template provided by Android Studio.   \n",
    "You use Kotlin and Jetpack Compose to customize your app.     "
   ]
  },
  {
   "cell_type": "markdown",
   "metadata": {},
   "source": [
    "#### Getting Started > Build your first app ≫ Create a project using the template "
   ]
  },
  {
   "cell_type": "markdown",
   "metadata": {},
   "source": [
    "You create an Android app __with the Empty Activity project template provided by Android Studio.__\n",
    "To create a project in Android Studio:\n",
    "- 1. __Double click the Android Studio icon__ to launch Android Studio.\n",
    "- 2. In the Welcome to Android Studio dialog, __click New Project.__    \n",
    ">- The New Project window opens with a list of templates provided by Android Studio. \n",
    ">>- File>New>New\n",
    ">- a project template is an Android project that provides the blueprint for a certain type of app.   \n",
    ">- Templates create the structure of the project and the files needed for Android Studio to build your project.   \n",
    ">- The template that you choose provides starter code to get you going faster.  \n",
    "- 3. Make sure __the Phone and Tablet tab is selected.__  \n",
    ">- Phone and Tablet>Click the __Empty Activity__ template\n",
    "- 4. Click the Empty Activity template to select it as the template for your project.   \n",
    ">- The Empty Activity template is the template to create a simple project that you can use to build a Compose app.   \n",
    ">- It has a single screen and displays the text \"Hello Android!\".\n",
    "- 5. Click Next. The New Project dialog opens.     \n",
    ">- This has some fields to configure your project.\n",
    "- 6. Configure your project as follows:\n",
    ">> - The Name field is used to enter the name of your project, for this codelab type \"Greeting Card\".   \n",
    ">>- Leave the Package name field as is.   \n",
    ">>- This is how your files will be organized in the file structure.   \n",
    ">>- In this case, the package name will be com.example.greetingcard.\n",
    ">>- Leave the Save location field as is. It contains the location where all the files related to your project are saved.   \n",
    ">>- Take a note of where that is on your computer so that you can find your files.\n",
    ">>- Select API 24: Android 7.0 (Nougat) from the menu in the Minimum SDK field. Minimum SDK indicates the minimum version of Android that your app can run on.      \n",
    ">>- Build configuration language : Kotlin DSL (building.gradle.kts) [Recommended]   \n",
    "- 7. Click Finish. This may take a while - this is a great time to get a cup of tea! While Android Studio is setting up, a progress bar and message indicates whether Android Studio is still setting up your project. It may look like this:  \n",
    "- 8. Click Split on the top right of Android Studio, this allows you to view both code and design.   \n",
    ">- You can also click Code to view code only or click Design to view design only.  \n",
    "- 9. Click Build & Refresh in the Design view  \n",
    ">- It may take a while to build but when it is done the preview shows a text box that says \"Hello Android!\".  \n",
    "<img src='./and_studio4.png'  width=800 height=400>  \n",
    ">- I've changed 'name' to 'Dr.Park!'  \n",
    "- 10. Customize  \n",
    ">- text, color, box...  \n",
    "<img src='./and_studio5.png'  width=800 height=400>  \n",
    "<img src='./and_studio6.png'  width=800 height=400>  \n",
    "- 11. Create and manage virtual devices  \n",
    ">- download as default  \n",
    "<img src='./and_studio7.png'  width=800 height=400>  \n",
    "- 12. Connect to your device using USB (Pair using Wi-Fi) \n",
    ">- Developer Mode on your cell ph, Build Number, USB debugging on  \n",
    "<img src='./and_studio8.png'  width=800 height=400>  \n",
    "\n"
   ]
  },
  {
   "cell_type": "markdown",
   "metadata": {},
   "source": [
    "## ▣ Create your first Kotlin application  \n",
    "https://www.jetbrains.com/help/idea/create-your-first-kotlin-app.html  "
   ]
  },
  {
   "cell_type": "markdown",
   "metadata": {},
   "source": [
    "## ▶ Install Kotlin  \n",
    "https://www.jetbrains.com/idea/download/?section=windows\n",
    "<img src='./kt_1.png'  width=800 height=400>  "
   ]
  },
  {
   "cell_type": "markdown",
   "metadata": {},
   "source": [
    "## ▶ Create a new project  \n",
    "\n",
    "In IntelliJ IDEA, a project helps you organize everything that is necessary for developing your application in a single unit.  \n",
    "- 1. On the Welcome screen, click New Project. Otherwise, from the main menu, select File | New | Project.  \n",
    "- 2. From the list on the left, select New Project.  \n",
    "- 3. Name your new project and change its location if necessary.  \n",
    "- 4. Select the Create Git repository checkbox to place the new project under version control.  \n",
    "- 5. You will be able to do it later at any time.  \n",
    "- 6. From the Language list, select Kotlin.  \n",
    "- 7. Select the Gradle build system.  \n",
    "- 8. Choose the Kotlin language for the build script.  \n",
    ">- From the JDK list, select the JDK that you want to use in your project.\n",
    ">- f the JDK is installed on your computer, but not defined in the IDE, select Add JDK and specify the path to the JDK home directory.\n",
    ">- If you don't have the necessary JDK on your computer, select Download JDK.\n",
    "- 9. Enable the Add sample code option to create a file with a sample Hello World! application.  \n",
    "- 10. Click Create.  \n",
    "\n",
    "<img src='./kt_2.png'  width=800 height=400>  \n"
   ]
  },
  {
   "cell_type": "markdown",
   "metadata": {},
   "source": [
    "## ▶ Write code  \n",
    "\n",
    "Source code is the central part of your project.   \n",
    "- In source code, you define what your application will be doing.   \n",
    "- Real projects may be very big and contain hundreds of thousands lines of code.   \n",
    "- In this tutorial we are going to start with a simple three-line application that asks the user their name and greets them.  \n",
    "\n",
    "In the Project tool window on the left,   \n",
    "- expand the node named after your project and __open the /src/main/kotlin/main.kt file.__  \n",
    "\n",
    "<img src='./kt_3.png'  width=800 height=400>  \n"
   ]
  },
  {
   "cell_type": "markdown",
   "metadata": {},
   "source": [
    "#### ■ Edit"
   ]
  },
  {
   "cell_type": "code",
   "execution_count": null,
   "metadata": {},
   "outputs": [],
   "source": [
    "fun main(args: Array<String>) {\n",
    "    println(\"Hello World!, What's your name?\")\n",
    "    val name = readln()\n",
    "    println(\"Hi, $name Welcome to Kotlin Playground\")\n",
    "}    "
   ]
  },
  {
   "cell_type": "markdown",
   "metadata": {},
   "source": [
    "## ▶ Run code from IntelliJ IDEA"
   ]
  },
  {
   "cell_type": "markdown",
   "metadata": {},
   "source": [
    "- Click the Run icon in the gutter and select Run 'MainKt'   \n",
    "- or press Ctrl + Shift + F10"
   ]
  },
  {
   "cell_type": "code",
   "execution_count": null,
   "metadata": {},
   "outputs": [],
   "source": []
  },
  {
   "cell_type": "code",
   "execution_count": null,
   "metadata": {},
   "outputs": [],
   "source": []
  }
 ],
 "metadata": {
  "kernelspec": {
   "display_name": "py3.7_YOLO",
   "language": "python",
   "name": "yolo"
  },
  "language_info": {
   "codemirror_mode": {
    "name": "ipython",
    "version": 3
   },
   "file_extension": ".py",
   "mimetype": "text/x-python",
   "name": "python",
   "nbconvert_exporter": "python",
   "pygments_lexer": "ipython3",
   "version": "3.7.16"
  }
 },
 "nbformat": 4,
 "nbformat_minor": 2
}
